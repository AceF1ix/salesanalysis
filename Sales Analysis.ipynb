{
 "cells": [
  {
   "cell_type": "markdown",
   "id": "7a81aaed-bdfd-486a-8f15-00973b52d0a5",
   "metadata": {},
   "source": [
    "# Exploratory Data Analysis using Pandas"
   ]
  },
  {
   "cell_type": "code",
   "execution_count": 105,
   "id": "611375db-89d8-40bc-9ff3-3e46f9f8b5e0",
   "metadata": {},
   "outputs": [],
   "source": [
    "import pandas as pd\n",
    "import matplotlib.pyplot as plt\n",
    "import seaborn as sns"
   ]
  },
  {
   "cell_type": "markdown",
   "id": "e7743cb8-43ee-4a7a-ab60-983eb0393a8f",
   "metadata": {},
   "source": [
    "### Questions that we would like to answer via our data analysis:"
   ]
  },
  {
   "cell_type": "markdown",
   "id": "54641a31-eb23-4380-b687-b97e5175baba",
   "metadata": {},
   "source": [
    "#####    Question 1: What is the distribution of quantities sold for each product category?"
   ]
  },
  {
   "cell_type": "markdown",
   "id": "8216db42-1a53-432f-8edf-21301fca7a92",
   "metadata": {},
   "source": [
    "#####    Question 2: What is the most and least expensive product in each category?"
   ]
  },
  {
   "cell_type": "markdown",
   "id": "da6f43a7-8e16-4907-b4a3-94c1fc2a2b95",
   "metadata": {},
   "source": [
    "#####    Question 3: What months generated the most sales?"
   ]
  },
  {
   "cell_type": "markdown",
   "id": "cfe0ce3d-0bb4-41d9-8c3b-ad028a06b5da",
   "metadata": {},
   "source": [
    "#####    Question 4: Is there a correlation between gender and the product category purchased?"
   ]
  },
  {
   "cell_type": "markdown",
   "id": "c351f706-0844-4cd8-a0df-3dbbc5480930",
   "metadata": {},
   "source": [
    "#### Task 1: Importing and Reading Data"
   ]
  },
  {
   "cell_type": "code",
   "execution_count": 156,
   "id": "b16a099d-943c-4e00-ad04-a7cb1082eccb",
   "metadata": {},
   "outputs": [],
   "source": [
    "df = pd.read_csv('./Sales_Data/Data.csv')"
   ]
  },
  {
   "cell_type": "markdown",
   "id": "96d780ad-09f8-43e9-ba13-3d68742f4be3",
   "metadata": {},
   "source": [
    "#### Task 2: Overview of data"
   ]
  },
  {
   "cell_type": "code",
   "execution_count": 157,
   "id": "f5df9b6f-9af4-4f6a-a143-c5b41ce3a001",
   "metadata": {},
   "outputs": [
    {
     "data": {
      "text/html": [
       "<div>\n",
       "<style scoped>\n",
       "    .dataframe tbody tr th:only-of-type {\n",
       "        vertical-align: middle;\n",
       "    }\n",
       "\n",
       "    .dataframe tbody tr th {\n",
       "        vertical-align: top;\n",
       "    }\n",
       "\n",
       "    .dataframe thead th {\n",
       "        text-align: right;\n",
       "    }\n",
       "</style>\n",
       "<table border=\"1\" class=\"dataframe\">\n",
       "  <thead>\n",
       "    <tr style=\"text-align: right;\">\n",
       "      <th></th>\n",
       "      <th>Transaction ID</th>\n",
       "      <th>Date</th>\n",
       "      <th>Customer ID</th>\n",
       "      <th>Gender</th>\n",
       "      <th>Age</th>\n",
       "      <th>Product Category</th>\n",
       "      <th>Quantity</th>\n",
       "      <th>Price per Unit</th>\n",
       "    </tr>\n",
       "  </thead>\n",
       "  <tbody>\n",
       "    <tr>\n",
       "      <th>0</th>\n",
       "      <td>1</td>\n",
       "      <td>2023-11-24 00:00:00</td>\n",
       "      <td>CUST001</td>\n",
       "      <td>Male</td>\n",
       "      <td>34</td>\n",
       "      <td>Beauty</td>\n",
       "      <td>3</td>\n",
       "      <td>50</td>\n",
       "    </tr>\n",
       "    <tr>\n",
       "      <th>1</th>\n",
       "      <td>2</td>\n",
       "      <td>2023-02-27 00:00:00</td>\n",
       "      <td>CUST002</td>\n",
       "      <td>Female</td>\n",
       "      <td>26</td>\n",
       "      <td>Clothing</td>\n",
       "      <td>2</td>\n",
       "      <td>250</td>\n",
       "    </tr>\n",
       "    <tr>\n",
       "      <th>2</th>\n",
       "      <td>3</td>\n",
       "      <td>2023-01-13 00:00:00</td>\n",
       "      <td>CUST003</td>\n",
       "      <td>Male</td>\n",
       "      <td>50</td>\n",
       "      <td>Electronics</td>\n",
       "      <td>1</td>\n",
       "      <td>30</td>\n",
       "    </tr>\n",
       "    <tr>\n",
       "      <th>3</th>\n",
       "      <td>4</td>\n",
       "      <td>2023-05-21 00:00:00</td>\n",
       "      <td>CUST004</td>\n",
       "      <td>Male</td>\n",
       "      <td>37</td>\n",
       "      <td>Clothing</td>\n",
       "      <td>1</td>\n",
       "      <td>250</td>\n",
       "    </tr>\n",
       "    <tr>\n",
       "      <th>4</th>\n",
       "      <td>5</td>\n",
       "      <td>2023-05-06 00:00:00</td>\n",
       "      <td>CUST005</td>\n",
       "      <td>Male</td>\n",
       "      <td>30</td>\n",
       "      <td>Beauty</td>\n",
       "      <td>2</td>\n",
       "      <td>50</td>\n",
       "    </tr>\n",
       "  </tbody>\n",
       "</table>\n",
       "</div>"
      ],
      "text/plain": [
       "   Transaction ID                 Date Customer ID  Gender  Age  \\\n",
       "0               1  2023-11-24 00:00:00     CUST001    Male   34   \n",
       "1               2  2023-02-27 00:00:00     CUST002  Female   26   \n",
       "2               3  2023-01-13 00:00:00     CUST003    Male   50   \n",
       "3               4  2023-05-21 00:00:00     CUST004    Male   37   \n",
       "4               5  2023-05-06 00:00:00     CUST005    Male   30   \n",
       "\n",
       "  Product Category  Quantity  Price per Unit  \n",
       "0           Beauty         3              50  \n",
       "1         Clothing         2             250  \n",
       "2      Electronics         1              30  \n",
       "3         Clothing         1             250  \n",
       "4           Beauty         2              50  "
      ]
     },
     "execution_count": 157,
     "metadata": {},
     "output_type": "execute_result"
    }
   ],
   "source": [
    "df.head()"
   ]
  },
  {
   "cell_type": "code",
   "execution_count": 158,
   "id": "fbbe08a7-2f7b-4b66-948d-7913955f1034",
   "metadata": {},
   "outputs": [
    {
     "name": "stdout",
     "output_type": "stream",
     "text": [
      "<class 'pandas.core.frame.DataFrame'>\n",
      "RangeIndex: 1000 entries, 0 to 999\n",
      "Data columns (total 8 columns):\n",
      " #   Column            Non-Null Count  Dtype \n",
      "---  ------            --------------  ----- \n",
      " 0   Transaction ID    1000 non-null   int64 \n",
      " 1   Date              1000 non-null   object\n",
      " 2   Customer ID       1000 non-null   object\n",
      " 3   Gender            1000 non-null   object\n",
      " 4   Age               1000 non-null   int64 \n",
      " 5   Product Category  1000 non-null   object\n",
      " 6   Quantity          1000 non-null   int64 \n",
      " 7   Price per Unit    1000 non-null   int64 \n",
      "dtypes: int64(4), object(4)\n",
      "memory usage: 62.6+ KB\n"
     ]
    }
   ],
   "source": [
    "df.info()"
   ]
  },
  {
   "cell_type": "markdown",
   "id": "d9b11317-ca9d-4046-ac7c-daa0d8dc9c30",
   "metadata": {},
   "source": [
    "#### Task 3: Getting data ready for analysis"
   ]
  },
  {
   "cell_type": "code",
   "execution_count": 160,
   "id": "015c182e-bf50-4804-86bb-139d4f955c33",
   "metadata": {},
   "outputs": [],
   "source": [
    "# Changing index to Transaction ID\n",
    "df = df.set_index('Transaction ID')\n",
    "\n",
    "# Parsing dates\n",
    "df['Date'] = pd.to_datetime(df['Date'])"
   ]
  },
  {
   "cell_type": "code",
   "execution_count": 161,
   "id": "8c2c3d0d-0200-4775-a925-d85aa8869a12",
   "metadata": {},
   "outputs": [
    {
     "data": {
      "text/html": [
       "<div>\n",
       "<style scoped>\n",
       "    .dataframe tbody tr th:only-of-type {\n",
       "        vertical-align: middle;\n",
       "    }\n",
       "\n",
       "    .dataframe tbody tr th {\n",
       "        vertical-align: top;\n",
       "    }\n",
       "\n",
       "    .dataframe thead th {\n",
       "        text-align: right;\n",
       "    }\n",
       "</style>\n",
       "<table border=\"1\" class=\"dataframe\">\n",
       "  <thead>\n",
       "    <tr style=\"text-align: right;\">\n",
       "      <th></th>\n",
       "      <th>Date</th>\n",
       "      <th>Customer ID</th>\n",
       "      <th>Gender</th>\n",
       "      <th>Age</th>\n",
       "      <th>Product Category</th>\n",
       "      <th>Quantity</th>\n",
       "      <th>Price per Unit</th>\n",
       "    </tr>\n",
       "    <tr>\n",
       "      <th>Transaction ID</th>\n",
       "      <th></th>\n",
       "      <th></th>\n",
       "      <th></th>\n",
       "      <th></th>\n",
       "      <th></th>\n",
       "      <th></th>\n",
       "      <th></th>\n",
       "    </tr>\n",
       "  </thead>\n",
       "  <tbody>\n",
       "  </tbody>\n",
       "</table>\n",
       "</div>"
      ],
      "text/plain": [
       "Empty DataFrame\n",
       "Columns: [Date, Customer ID, Gender, Age, Product Category, Quantity, Price per Unit]\n",
       "Index: []"
      ]
     },
     "execution_count": 161,
     "metadata": {},
     "output_type": "execute_result"
    }
   ],
   "source": [
    "# Check if we have any null values\n",
    "df[df.isna().any(axis=1)]"
   ]
  },
  {
   "cell_type": "markdown",
   "id": "e46ff9cd-4096-423d-b147-1979ec945a0d",
   "metadata": {},
   "source": [
    "#### Task 4: Grouping by product category"
   ]
  },
  {
   "cell_type": "code",
   "execution_count": 162,
   "id": "0f3ceba0-0529-4180-af63-9dbb7f99ccb5",
   "metadata": {},
   "outputs": [
    {
     "data": {
      "text/html": [
       "<div>\n",
       "<style scoped>\n",
       "    .dataframe tbody tr th:only-of-type {\n",
       "        vertical-align: middle;\n",
       "    }\n",
       "\n",
       "    .dataframe tbody tr th {\n",
       "        vertical-align: top;\n",
       "    }\n",
       "\n",
       "    .dataframe thead th {\n",
       "        text-align: right;\n",
       "    }\n",
       "</style>\n",
       "<table border=\"1\" class=\"dataframe\">\n",
       "  <thead>\n",
       "    <tr style=\"text-align: right;\">\n",
       "      <th></th>\n",
       "      <th>Date</th>\n",
       "      <th>Customer ID</th>\n",
       "      <th>Gender</th>\n",
       "      <th>Age</th>\n",
       "      <th>Product Category</th>\n",
       "      <th>Quantity</th>\n",
       "      <th>Price per Unit</th>\n",
       "    </tr>\n",
       "    <tr>\n",
       "      <th>Transaction ID</th>\n",
       "      <th></th>\n",
       "      <th></th>\n",
       "      <th></th>\n",
       "      <th></th>\n",
       "      <th></th>\n",
       "      <th></th>\n",
       "      <th></th>\n",
       "    </tr>\n",
       "  </thead>\n",
       "  <tbody>\n",
       "    <tr>\n",
       "      <th>1</th>\n",
       "      <td>2023-11-24</td>\n",
       "      <td>CUST001</td>\n",
       "      <td>Male</td>\n",
       "      <td>34</td>\n",
       "      <td>Beauty</td>\n",
       "      <td>3</td>\n",
       "      <td>50</td>\n",
       "    </tr>\n",
       "    <tr>\n",
       "      <th>2</th>\n",
       "      <td>2023-02-27</td>\n",
       "      <td>CUST002</td>\n",
       "      <td>Female</td>\n",
       "      <td>26</td>\n",
       "      <td>Clothing</td>\n",
       "      <td>2</td>\n",
       "      <td>250</td>\n",
       "    </tr>\n",
       "    <tr>\n",
       "      <th>3</th>\n",
       "      <td>2023-01-13</td>\n",
       "      <td>CUST003</td>\n",
       "      <td>Male</td>\n",
       "      <td>50</td>\n",
       "      <td>Electronics</td>\n",
       "      <td>1</td>\n",
       "      <td>30</td>\n",
       "    </tr>\n",
       "    <tr>\n",
       "      <th>4</th>\n",
       "      <td>2023-05-21</td>\n",
       "      <td>CUST004</td>\n",
       "      <td>Male</td>\n",
       "      <td>37</td>\n",
       "      <td>Clothing</td>\n",
       "      <td>1</td>\n",
       "      <td>250</td>\n",
       "    </tr>\n",
       "    <tr>\n",
       "      <th>5</th>\n",
       "      <td>2023-05-06</td>\n",
       "      <td>CUST005</td>\n",
       "      <td>Male</td>\n",
       "      <td>30</td>\n",
       "      <td>Beauty</td>\n",
       "      <td>2</td>\n",
       "      <td>50</td>\n",
       "    </tr>\n",
       "  </tbody>\n",
       "</table>\n",
       "</div>"
      ],
      "text/plain": [
       "                     Date Customer ID  Gender  Age Product Category  Quantity  \\\n",
       "Transaction ID                                                                  \n",
       "1              2023-11-24     CUST001    Male   34           Beauty         3   \n",
       "2              2023-02-27     CUST002  Female   26         Clothing         2   \n",
       "3              2023-01-13     CUST003    Male   50      Electronics         1   \n",
       "4              2023-05-21     CUST004    Male   37         Clothing         1   \n",
       "5              2023-05-06     CUST005    Male   30           Beauty         2   \n",
       "\n",
       "                Price per Unit  \n",
       "Transaction ID                  \n",
       "1                           50  \n",
       "2                          250  \n",
       "3                           30  \n",
       "4                          250  \n",
       "5                           50  "
      ]
     },
     "execution_count": 162,
     "metadata": {},
     "output_type": "execute_result"
    }
   ],
   "source": [
    "df.head()"
   ]
  },
  {
   "cell_type": "code",
   "execution_count": 163,
   "id": "486de945-9fc1-4eb3-a05a-ecb2c1123e96",
   "metadata": {},
   "outputs": [],
   "source": [
    "product_dist = df.groupby(['Product Category'])['Quantity'].sum()\n",
    "product_category = df['Product Category'].unique()"
   ]
  },
  {
   "cell_type": "code",
   "execution_count": 164,
   "id": "e8ff3012-dde0-4d1a-b8e0-4266a1ad5a9c",
   "metadata": {},
   "outputs": [
    {
     "data": {
      "image/png": "[encoded data removed]",
      "text/plain": [
       "<Figure size 640x480 with 1 Axes>"
      ]
     },
     "metadata": {},
     "output_type": "display_data"
    }
   ],
   "source": [
    "# Plotting our finds\n",
    "plt.barh(product_category, product_dist, color='Skyblue')\n",
    "plt.title('Distribution of Product Category')\n",
    "plt.ylabel('Product Category')\n",
    "plt.xlabel('Quantity')\n",
    "plt.show()"
   ]
  },
  {
   "cell_type": "markdown",
   "id": "a6f2a335-5d3f-4d0f-a4f4-155f7da006ae",
   "metadata": {},
   "source": [
    "#### Task 5: Finding most and least expensive products in each category"
   ]
  },
  {
   "cell_type": "code",
   "execution_count": 170,
   "id": "72422b2e-9179-4474-b447-7a68d81c7591",
   "metadata": {},
   "outputs": [
    {
     "data": {
      "image/png": "[encoded data removed]",
      "text/plain": [
       "<Figure size 640x480 with 1 Axes>"
      ]
     },
     "metadata": {},
     "output_type": "display_data"
    }
   ],
   "source": [
    "min_max_price = df.groupby(['Product Category'])['Price per Unit'].agg(['min','max'])\n",
    "\n",
    "min_max_price.plot(kind='bar', color=['skyblue', 'orange'])\n",
    "plt.title('Cheapest and Most Expensive Product in each Product Category')\n",
    "plt.ylabel('Price in USD ($)')\n",
    "plt.show()"
   ]
  },
  {
   "cell_type": "markdown",
   "id": "752c11ca-ef5c-45b7-81ab-0c96758354dc",
   "metadata": {},
   "source": [
    "#### Task 6: Creating a month and sales column"
   ]
  },
  {
   "cell_type": "code",
   "execution_count": 124,
   "id": "55da283e-684d-411d-ac28-fcdc6de63602",
   "metadata": {},
   "outputs": [],
   "source": [
    "df['Sales'] = df['Quantity'] * df['Price per Unit']\n",
    "df['Month'] = df['Date'].dt.month"
   ]
  },
  {
   "cell_type": "code",
   "execution_count": 125,
   "id": "bb864b1c-3ba1-4558-b7f7-27fda22d365c",
   "metadata": {},
   "outputs": [
    {
     "data": {
      "text/html": [
       "<div>\n",
       "<style scoped>\n",
       "    .dataframe tbody tr th:only-of-type {\n",
       "        vertical-align: middle;\n",
       "    }\n",
       "\n",
       "    .dataframe tbody tr th {\n",
       "        vertical-align: top;\n",
       "    }\n",
       "\n",
       "    .dataframe thead th {\n",
       "        text-align: right;\n",
       "    }\n",
       "</style>\n",
       "<table border=\"1\" class=\"dataframe\">\n",
       "  <thead>\n",
       "    <tr style=\"text-align: right;\">\n",
       "      <th></th>\n",
       "      <th>Date</th>\n",
       "      <th>Customer ID</th>\n",
       "      <th>Gender</th>\n",
       "      <th>Age</th>\n",
       "      <th>Product Category</th>\n",
       "      <th>Quantity</th>\n",
       "      <th>Price per Unit</th>\n",
       "      <th>Month</th>\n",
       "      <th>Sales</th>\n",
       "    </tr>\n",
       "    <tr>\n",
       "      <th>Transaction ID</th>\n",
       "      <th></th>\n",
       "      <th></th>\n",
       "      <th></th>\n",
       "      <th></th>\n",
       "      <th></th>\n",
       "      <th></th>\n",
       "      <th></th>\n",
       "      <th></th>\n",
       "      <th></th>\n",
       "    </tr>\n",
       "  </thead>\n",
       "  <tbody>\n",
       "    <tr>\n",
       "      <th>1</th>\n",
       "      <td>2023-11-24</td>\n",
       "      <td>CUST001</td>\n",
       "      <td>Male</td>\n",
       "      <td>34</td>\n",
       "      <td>Beauty</td>\n",
       "      <td>3</td>\n",
       "      <td>50</td>\n",
       "      <td>11</td>\n",
       "      <td>150</td>\n",
       "    </tr>\n",
       "    <tr>\n",
       "      <th>2</th>\n",
       "      <td>2023-02-27</td>\n",
       "      <td>CUST002</td>\n",
       "      <td>Female</td>\n",
       "      <td>26</td>\n",
       "      <td>Clothing</td>\n",
       "      <td>2</td>\n",
       "      <td>250</td>\n",
       "      <td>2</td>\n",
       "      <td>500</td>\n",
       "    </tr>\n",
       "    <tr>\n",
       "      <th>3</th>\n",
       "      <td>2023-01-13</td>\n",
       "      <td>CUST003</td>\n",
       "      <td>Male</td>\n",
       "      <td>50</td>\n",
       "      <td>Electronics</td>\n",
       "      <td>1</td>\n",
       "      <td>30</td>\n",
       "      <td>1</td>\n",
       "      <td>30</td>\n",
       "    </tr>\n",
       "    <tr>\n",
       "      <th>4</th>\n",
       "      <td>2023-05-21</td>\n",
       "      <td>CUST004</td>\n",
       "      <td>Male</td>\n",
       "      <td>37</td>\n",
       "      <td>Clothing</td>\n",
       "      <td>1</td>\n",
       "      <td>250</td>\n",
       "      <td>5</td>\n",
       "      <td>250</td>\n",
       "    </tr>\n",
       "    <tr>\n",
       "      <th>5</th>\n",
       "      <td>2023-05-06</td>\n",
       "      <td>CUST005</td>\n",
       "      <td>Male</td>\n",
       "      <td>30</td>\n",
       "      <td>Beauty</td>\n",
       "      <td>2</td>\n",
       "      <td>50</td>\n",
       "      <td>5</td>\n",
       "      <td>100</td>\n",
       "    </tr>\n",
       "  </tbody>\n",
       "</table>\n",
       "</div>"
      ],
      "text/plain": [
       "                     Date Customer ID  Gender  Age Product Category  Quantity  \\\n",
       "Transaction ID                                                                  \n",
       "1              2023-11-24     CUST001    Male   34           Beauty         3   \n",
       "2              2023-02-27     CUST002  Female   26         Clothing         2   \n",
       "3              2023-01-13     CUST003    Male   50      Electronics         1   \n",
       "4              2023-05-21     CUST004    Male   37         Clothing         1   \n",
       "5              2023-05-06     CUST005    Male   30           Beauty         2   \n",
       "\n",
       "                Price per Unit  Month  Sales  \n",
       "Transaction ID                                \n",
       "1                           50     11    150  \n",
       "2                          250      2    500  \n",
       "3                           30      1     30  \n",
       "4                          250      5    250  \n",
       "5                           50      5    100  "
      ]
     },
     "execution_count": 125,
     "metadata": {},
     "output_type": "execute_result"
    }
   ],
   "source": [
    "df.head()"
   ]
  },
  {
   "cell_type": "code",
   "execution_count": 128,
   "id": "2f1849e3-a1d2-4b76-875a-c34cf7f02f86",
   "metadata": {},
   "outputs": [],
   "source": [
    "monthly_sales = df.groupby(['Month'])['Sales'].sum()"
   ]
  },
  {
   "cell_type": "code",
   "execution_count": 151,
   "id": "e20066d5-ec0b-4d33-8dee-cbf4b170f847",
   "metadata": {},
   "outputs": [
    {
     "data": {
      "image/png": "[encoded data removed]",
      "text/plain": [
       "<Figure size 640x480 with 1 Axes>"
      ]
     },
     "metadata": {},
     "output_type": "display_data"
    }
   ],
   "source": [
    "months = range(1, 13)\n",
    "\n",
    "plt.bar(months, monthly_sales, color='Skyblue')\n",
    "plt.title('Total Sales per Month')\n",
    "plt.xticks(months)\n",
    "plt.ylabel('Sales in USD ($)')\n",
    "plt.xlabel('Month number')\n",
    "plt.show()"
   ]
  },
  {
   "cell_type": "markdown",
   "id": "bae223e2-3dd5-48dd-8049-f71cfc91ed59",
   "metadata": {},
   "source": [
    "#### Task 7: Create a heatmap to analyse the correlation between gender and product category"
   ]
  },
  {
   "cell_type": "code",
   "execution_count": 150,
   "id": "ca9c9a2f-95b0-47a2-84ab-ba30339b59d1",
   "metadata": {},
   "outputs": [
    {
     "data": {
      "image/png": "[encoded data removed]",
      "text/plain": [
       "<Figure size 640x480 with 2 Axes>"
      ]
     },
     "metadata": {},
     "output_type": "display_data"
    }
   ],
   "source": [
    "# Create a pandas dataframe for Gender and Product Category\n",
    "table = pd.crosstab(df['Gender'], df['Product Category'])\n",
    "\n",
    "# Plot a heatmap\n",
    "sns.heatmap(table, annot=True, fmt='d', cmap='crest')\n",
    "plt.title('Correlation Between Gender and Product Category Purchased')\n",
    "plt.xlabel('Product Category')\n",
    "plt.ylabel('Gender')\n",
    "plt.show()"
   ]
  }
 ],
 "metadata": {
  "kernelspec": {
   "display_name": "Python 3 (ipykernel)",
   "language": "python",
   "name": "python3"
  },
  "language_info": {
   "codemirror_mode": {
    "name": "ipython",
    "version": 3
   },
   "file_extension": ".py",
   "mimetype": "text/x-python",
   "name": "python",
   "nbconvert_exporter": "python",
   "pygments_lexer": "ipython3",
   "version": "3.11.5"
  }
 },
 "nbformat": 4,
 "nbformat_minor": 5
}
